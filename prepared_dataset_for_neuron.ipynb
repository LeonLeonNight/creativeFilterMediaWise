{
 "cells": [
  {
   "cell_type": "code",
   "execution_count": 1,
   "metadata": {},
   "outputs": [],
   "source": [
    "import os\n",
    "import csv\n",
    "import math\n",
    "\n",
    "#read speach from file\n",
    "import moviepy.editor as mp \n",
    "import speech_recognition as sr \n",
    "\n",
    "train_dir = 'train_dataset_train_Mediawise/'"
   ]
  },
  {
   "cell_type": "code",
   "execution_count": 2,
   "metadata": {},
   "outputs": [],
   "source": [
    "\n",
    "def extract_audi_text(video_name):\n",
    "    path = os.path.join(train_dir, video_name)\n",
    "    print(path)\n",
    "    video = mp.VideoFileClip(video_name)\n",
    "\n",
    "    audio_file = video.audio\n",
    "\n",
    "    # Initialize recognizer\n",
    "    r = sr.Recognizer()\n",
    "\n",
    "    with sr.AudioFile(audio_file) as source:\n",
    "        data = r.record(source)\n",
    "    text = r.recognize_google_cloud(data)\n",
    "    return text;"
   ]
  },
  {
   "cell_type": "code",
   "execution_count": null,
   "metadata": {},
   "outputs": [],
   "source": [
    "prepared_dataset_file = 'prepared_dataset.csv'\n",
    "\n",
    "headers = [['Advertisement_ID', 'FileExtention', 'SpeechText', 'CadreText']]\n",
    "\n",
    "if not os.path.isfile(prepared_dataset_file):\n",
    "    with open(prepared_dataset_file, mode='w', newline='') as file:\n",
    "        write = csv.writer(file)\n",
    "        write.writerows(headers)\n",
    "\n",
    "for filename in os.listdir(path=train_dir):\n",
    "    if filename != '.DS_Store':\n",
    "        video = mp.VideoFileClip(filename=train_dir+ str(filename))\n",
    "        audio_file = video.audio\n",
    "        audio_file.write_audiofile(str(filename.split('.',1)[0])+\".wav\")\n",
    "        # Initialize recognizer\n",
    "        r = sr.Recognizer()\n",
    "        with sr.AudioFile(str(filename.split('.',1)[0])+\".wav\") as source:\n",
    "            audio_text = r.listen(source)\n",
    "            total_clip_time_round_ms = math.ceil(video.end)*1000\n",
    "            clip_parts = total_clip_time_round_ms / 10000\n",
    "            start_ms = 0\n",
    "            end_ms = 0\n",
    "            part = 0\n",
    "            text = \"\"\n",
    "            while part < clip_parts:\n",
    "                start_ms = part * 10000\n",
    "                end_ms = (part+1)*10000\n",
    "                text_part = r.recognize_google(audio_text.get_segment(start_ms, end_ms), language = \"ru\")\n",
    "                text = text + text_part\n",
    "                part = part + 1\n",
    "\n",
    "        print(text)\n"
   ]
  }
 ],
 "metadata": {
  "kernelspec": {
   "display_name": "venv",
   "language": "python",
   "name": "python3"
  },
  "language_info": {
   "codemirror_mode": {
    "name": "ipython",
    "version": 3
   },
   "file_extension": ".py",
   "mimetype": "text/x-python",
   "name": "python",
   "nbconvert_exporter": "python",
   "pygments_lexer": "ipython3",
   "version": "3.11.6"
  }
 },
 "nbformat": 4,
 "nbformat_minor": 2
}
